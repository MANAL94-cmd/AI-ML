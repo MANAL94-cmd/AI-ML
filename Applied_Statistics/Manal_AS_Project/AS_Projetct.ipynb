{
 "cells": [
  {
   "cell_type": "code",
   "execution_count": 4,
   "id": "a0402425",
   "metadata": {},
   "outputs": [],
   "source": [
    "import numpy as np\n",
    "import pandas as pd\n",
    "import matplotlib.pyplot as plt\n",
    "%matplotlib inline\n",
    "import seaborn as sns\n",
    "sns.set(color_codes=True)# Adding nice back ground to the graphs\n",
    "import scipy.stats       as stats"
   ]
  },
  {
   "cell_type": "code",
   "execution_count": 5,
   "id": "c6832d9a",
   "metadata": {},
   "outputs": [
    {
     "ename": "SyntaxError",
     "evalue": "invalid syntax (Temp/ipykernel_13692/560349022.py, line 1)",
     "output_type": "error",
     "traceback": [
      "\u001b[1;36m  File \u001b[1;32m\"C:\\Users\\minha\\AppData\\Local\\Temp/ipykernel_13692/560349022.py\"\u001b[1;36m, line \u001b[1;32m1\u001b[0m\n\u001b[1;33m    PartA Answers\u001b[0m\n\u001b[1;37m          ^\u001b[0m\n\u001b[1;31mSyntaxError\u001b[0m\u001b[1;31m:\u001b[0m invalid syntax\n"
     ]
    }
   ],
   "source": [
    "PartA Answers"
   ]
  },
  {
   "cell_type": "code",
   "execution_count": null,
   "id": "2630acd4",
   "metadata": {},
   "outputs": [],
   "source": [
    "#Question 1 Answers\n",
    "#read csv file\n",
    "file=\"PA1.csv\"\n",
    "purchase_list=pd.read_csv(file)\n",
    "\n",
    "#Qn_1.A \"joint probability of the people who planned to purchase and actually placed an order\"\n",
    "Answer_1A=purchase_list['Actually placed order for Product A - Yes'][0]/purchase_list['total'][2]\n",
    "\n",
    "print(' 1A) joint probability of the people who planned to purchase and actually placed an order %1.4f'% Answer_1A)\n",
    "#joint probability of the people who planned to purchase and actually placed an order, given that people planned to purchase\n",
    "Answer_1B=purchase_list['Actually placed order for Product A - Yes'][0]/purchase_list['total'][0]\n",
    "print(' 1B) joint probability of the people who planned to purchase and actually placed an order, given that people planned to purchase %1.4f'% Answer_1B)"
   ]
  },
  {
   "cell_type": "code",
   "execution_count": null,
   "id": "5390f80c",
   "metadata": {},
   "outputs": [],
   "source": []
  },
  {
   "cell_type": "code",
   "execution_count": null,
   "id": "1ade8db3",
   "metadata": {},
   "outputs": [],
   "source": [
    "#Question 2 Answers\n",
    "Failure_rate=0.05\n",
    "Random_sample=10\n",
    "k   =  np.arange(0,Random_sample+1) # An array of quantiles\n",
    "binomial = stats.binom.pmf(k,Random_sample,Failure_rate)\n",
    "\n",
    "print(binomial)\n",
    "\n",
    "#2.A. Probability that none of the items are defective? \n",
    "print(' 2A) Probability that none of the items are defective %1.4f'% binomial[0])\n",
    "\n",
    "#2.B. Probability that exactly one of the items is defective?\n",
    "print(' 2B) Probability that exactly one of the items is defective %1.4f'% binomial[1])\n",
    "#2.C. Probability that two or fewer of the items are defective?\n",
    "#calculating cumulative binomial cumbinomial = stats.binom.cdf(k,n,p)\n",
    "cumbinomial = stats.binom.cdf(k,Random_sample,Failure_rate)\n",
    "print(cumbinomial)\n",
    "print(' 2C) Probability that two or fewer of the items are defective %1.4f'% cumbinomial[2])\n",
    "#2.D. Probability that three or more of the items are defective ? \n",
    "P = 1- cumbinomial[2]\n",
    "print(' 2D) Probability that three or more of the items are defective %1.4f'% P)"
   ]
  },
  {
   "cell_type": "code",
   "execution_count": null,
   "id": "a8568ecc",
   "metadata": {
    "scrolled": true
   },
   "outputs": [],
   "source": [
    "#Question 3 Answers\n",
    "rate=3 #Average sales per week\n",
    "#3.A.What is Probability that in a given week he will sell some cars\n",
    "n    =  np.arange(0,16)\n",
    "cumpoisson = stats.poisson.cdf(n,rate)\n",
    "\n",
    "P_selling_no_cars=cumpoisson[0]\n",
    "P_selling_some_cars=1-P_selling_no_cars\n",
    "\n",
    "print(' 3A) Probability that a given week he will sell some cars %1.4f' % P_selling_some_cars)\n",
    "\n",
    "#3.B. What is Probability that in a given week he will sell 2 or more but less than 5 cars\n",
    "# Let P1 be the probability that the agent sells more than 4 cars\n",
    "P1 = cumpoisson[4] # P(X >=4)\n",
    "# Let P2 be the probability that the agent sells more than 1  car\n",
    "P2 = cumpoisson[1] # P(X >=1)\n",
    "P = P1 - P2 # Prob. that the agent will sell between 2 and 5 cars\n",
    "print(' 3B) Probability that in a given week he will sell 2 or more but less than 5 cars %1.4f' % P)\n",
    "# plot poissons distribution plot\n",
    "poisson = stats.poisson.cdf(n,rate)\n",
    "plt.plot(n,poisson, 'o-')\n",
    "plt.title('Poisson')\n",
    "plt.xlabel('Number of cars sold per week')\n",
    "plt.ylabel('Cumulative Prob of cars sold per week')\n",
    "plt.show()\n"
   ]
  },
  {
   "cell_type": "code",
   "execution_count": null,
   "id": "e55a0764",
   "metadata": {},
   "outputs": [],
   "source": [
    "#Question 4 Answers\n",
    "\n",
    "Accuracy_rate=0.868\n",
    "Random_sample=3\n",
    "k   =  np.arange(0,Random_sample+1) # An array of quantiles\n",
    "binomial = stats.binom.pmf(k,Random_sample,Accuracy_rate)\n",
    "print(binomial)\n",
    "\n",
    "#4.A. What is the probability that all three orders will be recognised correctly?\n",
    "\n",
    "print(' 4A) probability that all three orders will be recognised correctly %1.4f'% binomial[3])\n",
    "\n",
    "#4.B. What is the probability that none of the three orders will be recognised correctly\n",
    "print(' 4B) probability that none of the three orders will be recognised correctly %1.4f'% binomial[0])\n",
    "\n",
    "#4.C. What is the probability that at least two of the three orders will be recognised correctly?\n",
    "binomial=binomial[2]+binomial[3]\n",
    "print(' 4C) probability that at least two of the three orders will be recognised correctly %1.4f'% binomial)"
   ]
  },
  {
   "cell_type": "markdown",
   "id": "11460707",
   "metadata": {},
   "source": [
    "#Question 5 Answers\n",
    "Explain 1 real life industry scenario (other than the ones mentioned above) where you can use the concepts learnt in this module of\n",
    "Applied Statistics to get data driven business solution\n",
    "\n",
    "***********************\n",
    "1.Manufacturing industry: Probability of finding out faulty product out of a production batch\n",
    "2.Customer service industry: Probability of finding out number of customers to attend in a busy hour\n",
    "3.Human Resource: Nomalise employee ratings in an organisation\n",
    "4.Telecom Industry: Probablity of a phone call dropping in busy hours of the day"
   ]
  },
  {
   "cell_type": "code",
   "execution_count": null,
   "id": "46d5cd48",
   "metadata": {},
   "outputs": [],
   "source": [
    "PartB Answers"
   ]
  },
  {
   "cell_type": "code",
   "execution_count": null,
   "id": "2bc0c3ca",
   "metadata": {},
   "outputs": [],
   "source": [
    "#cleaning the data and prepare final dataset to be used for analysis.\n",
    "\n",
    "# Reading Raw data set\n",
    "file=\"DS+-+Part2+-+Basketball.csv\"\n",
    "df=pd.read_csv(file)\n",
    "print(df)\n",
    "\n",
    "\n"
   ]
  },
  {
   "cell_type": "code",
   "execution_count": null,
   "id": "fc6b1dc8",
   "metadata": {},
   "outputs": [],
   "source": [
    "# Replace the '-' with 0\n",
    "df = df.replace('-',0)\n",
    "# replace the matching strings \n",
    "df = df.replace(to_replace ='to', value = '-', regex = True) \n",
    "df = df.replace(to_replace ='_', value = '-', regex = True) \n",
    "df = df.replace(to_replace ='~', value = '-', regex = True) "
   ]
  },
  {
   "cell_type": "code",
   "execution_count": null,
   "id": "e9ea9037",
   "metadata": {},
   "outputs": [],
   "source": [
    "# Print the updated dataframe \n",
    "df.head(10)\n",
    "# display attribute datatypes\n",
    "df.dtypes\n",
    "\n",
    "# Observation: majority of the attributes are of type \"object\""
   ]
  },
  {
   "cell_type": "code",
   "execution_count": null,
   "id": "d50ce6ac",
   "metadata": {},
   "outputs": [],
   "source": [
    "# display attribute information\n",
    "df.info()\n",
    "# Observation: There are no null values present in the dataset\n"
   ]
  },
  {
   "cell_type": "code",
   "execution_count": null,
   "id": "2664d438",
   "metadata": {},
   "outputs": [],
   "source": [
    "# Convert the attributes with type \"OBJECT\" to \"INT\"\n",
    "import re  # importing regular expressions library\n",
    "\n",
    "# Extract debut year\n",
    "for i in range(len(df['TeamLaunch'])):\n",
    "    x=df.loc[i,\"TeamLaunch\"]\n",
    "    temp = re.findall(r'\\d\\d\\d\\d',x)\n",
    "    df.loc[i,\"TeamLaunch\"]=temp\n",
    "# type conversion\n",
    "df[\"TeamLaunch\"]=df[\"TeamLaunch\"].astype('int')\n",
    "\n",
    "# Create a new dataframe\n",
    "df_new = df.loc[:,df.columns != 'Team']\n",
    "df_new=df_new.astype('int')\n",
    "df_new['Team']=df['Team']\n",
    "\n",
    "# display the data types of the new dataframe\n",
    "df_new.info()\n",
    "\n",
    "\n",
    "#Printing cleaned data set\n",
    "print(df_new)"
   ]
  },
  {
   "cell_type": "code",
   "execution_count": null,
   "id": "522064e4",
   "metadata": {},
   "outputs": [],
   "source": [
    "#Perform detailed statistical analysis and EDA using univariate, bi-variate and multivariate EDA techniques to get data driven insights on\n",
    "#recommending which teams they can approach which will be a deal win for them. Also as a data and statistics expert you have to develop a\n",
    "#detailed performance report using this data'\n",
    "\n",
    "\n",
    "# Age of each team - Assumption the data is from the year 2019\n",
    "\n",
    "df_new['Age']=2019-df_new['TeamLaunch']\n",
    "df_new['Age']\n",
    "print(df_new)\n"
   ]
  },
  {
   "cell_type": "code",
   "execution_count": null,
   "id": "9247118a",
   "metadata": {},
   "outputs": [],
   "source": [
    "# Creating new features: Win Rate\n",
    "\n",
    "df_new['WinRate']=df_new['WonGames']/df_new['PlayedGames']\n",
    "df_new['WinRate'].head()\n",
    "\n",
    "df_new.head()"
   ]
  },
  {
   "cell_type": "code",
   "execution_count": null,
   "id": "ce3aebc9",
   "metadata": {},
   "outputs": [],
   "source": [
    "df_1=df_new.filter(['Team','Age','WinRate','ChampRate'])\n",
    "df_1.head()"
   ]
  },
  {
   "cell_type": "code",
   "execution_count": null,
   "id": "5e406ca4",
   "metadata": {},
   "outputs": [],
   "source": [
    "df_1.sort_values(by='Age').head(10) # Youngest teams"
   ]
  },
  {
   "cell_type": "code",
   "execution_count": null,
   "id": "8887eb78",
   "metadata": {},
   "outputs": [],
   "source": [
    "df_1.sort_values(by='Age',ascending=False).head(10) # Oldest teams"
   ]
  },
  {
   "cell_type": "code",
   "execution_count": null,
   "id": "de930600",
   "metadata": {},
   "outputs": [],
   "source": [
    "df_1.sort_values(by='WinRate',ascending=False).head(10) # Top performing teams"
   ]
  },
  {
   "cell_type": "code",
   "execution_count": null,
   "id": "77657b43",
   "metadata": {},
   "outputs": [],
   "source": [
    "df_1.sort_values(by='WinRate',ascending=True).head(10) # Low performing teams"
   ]
  },
  {
   "cell_type": "code",
   "execution_count": null,
   "id": "a7b93b1f",
   "metadata": {},
   "outputs": [],
   "source": [
    "df_2=df_1.sort_values(by='WinRate',ascending=False) # Top performing teams\n",
    "df_2.sort_values(by='Age',ascending=True).head(10) # Top performing young teams"
   ]
  },
  {
   "cell_type": "code",
   "execution_count": null,
   "id": "de765481",
   "metadata": {},
   "outputs": [],
   "source": [
    "# Plotting new features\n",
    "\n",
    "\n",
    "import plotly.express as px\n",
    "fig = px.scatter(df_new, x=\"Team\", y=\"WinRate\",color='Team')\n",
    "fig.show()"
   ]
  },
  {
   "cell_type": "code",
   "execution_count": null,
   "id": "6d63b473",
   "metadata": {},
   "outputs": [],
   "source": [
    "# Young vs old team's performance\n",
    "\n",
    "fig = px.scatter(df_new, x=\"WinRate\", y=\"HighestPositionHeld\",size=\"Age\",color='Team')\n",
    "fig.show()"
   ]
  },
  {
   "cell_type": "code",
   "execution_count": null,
   "id": "01d1fab1",
   "metadata": {},
   "outputs": [],
   "source": [
    "# Young vs old team's performance\n",
    "\n",
    "fig = px.scatter(df_new, x=\"Team\", y=\"WinRate\",size=\"Age\")\n",
    "fig.show()"
   ]
  },
  {
   "cell_type": "markdown",
   "id": "376f8782",
   "metadata": {},
   "source": [
    "Observations:\n",
    "\n",
    "Young and old teams with similar performance\n",
    "\n",
    "Team 6:\n",
    "Win Rate: 41%\n",
    "Highest Position: 1\n",
    "Age: 85\n",
    "Team 21:\n",
    "Win Rate: 41%\n",
    "Highest Position: 2\n",
    "Age: 21\n",
    "Young teams with similar performance\n",
    "\n",
    "- Team 57:\n",
    "    1. Win Rate: 21%%\n",
    "    2. Highest Position: 20\n",
    "    3. Age: 10\n",
    "- Team 56:\n",
    "    1. Win Rate: 21%\n",
    "    2. Highest Position: 17\n",
    "    3. Age: 3\n",
    "There are many columns available with many combinations."
   ]
  },
  {
   "cell_type": "code",
   "execution_count": null,
   "id": "b5f3f70d",
   "metadata": {},
   "outputs": [],
   "source": [
    "import plotly.express as px\n",
    "fig = px.box(df_new,y='Age')  # Mix match columns and comment on the statistical distribution\n",
    "fig.show()"
   ]
  },
  {
   "cell_type": "code",
   "execution_count": null,
   "id": "91146596",
   "metadata": {
    "scrolled": true
   },
   "outputs": [],
   "source": [
    "import plotly.express as px\n",
    "fig = px.histogram(df_new, x=\"Age\")  # Mix match columns and comment on the statistical distribution\n",
    "fig.show()"
   ]
  },
  {
   "cell_type": "code",
   "execution_count": null,
   "id": "d07a4982",
   "metadata": {},
   "outputs": [],
   "source": [
    "import plotly.express as px\n",
    "fig = px.pie(df_new, values='Age', names='Team') # Mix match columns and comment on functional findings\n",
    "fig.show()"
   ]
  },
  {
   "cell_type": "markdown",
   "id": "ad2bf66f",
   "metadata": {},
   "source": [
    "Observation:\n",
    "Majority of the teams are from age 40 to 85"
   ]
  },
  {
   "cell_type": "markdown",
   "id": "9a56db83",
   "metadata": {},
   "source": [
    "Perform detailed statistical analysis on all the possible columns"
   ]
  },
  {
   "cell_type": "code",
   "execution_count": null,
   "id": "55dc84ea",
   "metadata": {},
   "outputs": [],
   "source": [
    "df_new.describe().T"
   ]
  },
  {
   "cell_type": "code",
   "execution_count": null,
   "id": "3a76bf38",
   "metadata": {},
   "outputs": [],
   "source": [
    "import plotly.express as px\n",
    "fig = px.histogram(df_new, x=\"HighestPositionHeld\")  # Mix match columns and comment on the statistical distribution\n",
    "fig.show()"
   ]
  },
  {
   "cell_type": "code",
   "execution_count": null,
   "id": "a036116c",
   "metadata": {},
   "outputs": [],
   "source": [
    "import plotly.express as px\n",
    "fig = px.box(df_new,y='HighestPositionHeld')  # Mix match columns and comment on the statistical distribution\n",
    "fig.show()"
   ]
  },
  {
   "cell_type": "markdown",
   "id": "4bdcc84c",
   "metadata": {},
   "source": [
    "Example insights:\n",
    "Best Position: 1 to 6 has more representation then the rest which goes till 20."
   ]
  },
  {
   "cell_type": "code",
   "execution_count": null,
   "id": "53fa9f62",
   "metadata": {},
   "outputs": [],
   "source": [
    "df_new.corr()"
   ]
  },
  {
   "cell_type": "code",
   "execution_count": null,
   "id": "fea24706",
   "metadata": {},
   "outputs": [],
   "source": [
    "import plotly.express as px\n",
    "fig = px.box(df_new,y='Score')  # Mix match columns and comment on the statistical distribution\n",
    "fig.show()"
   ]
  },
  {
   "cell_type": "code",
   "execution_count": null,
   "id": "bc6ef2e1",
   "metadata": {},
   "outputs": [],
   "source": [
    "import plotly.express as px\n",
    "fig = px.scatter(df_new, x=\"PlayedGames\", y=\"WonGames\",color='Team')\n",
    "fig.show()"
   ]
  },
  {
   "cell_type": "markdown",
   "id": "830f5bbb",
   "metadata": {},
   "source": [
    "Example insights:\n",
    "Linear relationship found.\n",
    "Exact correlation can be found using a corr() plot"
   ]
  },
  {
   "cell_type": "code",
   "execution_count": null,
   "id": "47640c13",
   "metadata": {},
   "outputs": [],
   "source": [
    "import plotly.express as px\n",
    "fig = px.pie(df_new, values='PlayedGames', names='Team') # Mix match columns and comment on functional findings\n",
    "fig.show()"
   ]
  },
  {
   "cell_type": "markdown",
   "id": "1a790996",
   "metadata": {},
   "source": [
    "Example insights:\n",
    "self explainatory graph"
   ]
  },
  {
   "cell_type": "code",
   "execution_count": null,
   "id": "0a5677d1",
   "metadata": {},
   "outputs": [],
   "source": [
    "import plotly.express as px\n",
    "fig = px.scatter_matrix(df_new,dimensions=[\"PlayedGames\", \"WonGames\", \"LostGames\"],color=\"Team\")\n",
    "fig.show()"
   ]
  },
  {
   "cell_type": "code",
   "execution_count": null,
   "id": "b6da5c03",
   "metadata": {},
   "outputs": [],
   "source": [
    "import plotly.express as px\n",
    "fig = px.histogram(df_new, x=\"Age\")  # Mix match columns and comment on the statistical distribution\n",
    "fig.show()"
   ]
  },
  {
   "cell_type": "markdown",
   "id": "99fd400f",
   "metadata": {},
   "source": [
    "Recommendation:\n",
    "Company’s management wants to invest on proposal on managing some of the best teams in the league. The analytics department has been assigned with a task of creating a report on the performance shown by the teams. Some of the older teams are already in contract with competitors. Hence Company X wants to understand which teams they can approach which will be a deal win for them.\n",
    "\n",
    "Answer:\n",
    "Top 5 teams that are common between below Table 1 & Table2 should be recommended to approach."
   ]
  },
  {
   "cell_type": "code",
   "execution_count": 6,
   "id": "d0e46902",
   "metadata": {},
   "outputs": [
    {
     "ename": "NameError",
     "evalue": "name 'df_1' is not defined",
     "output_type": "error",
     "traceback": [
      "\u001b[1;31m---------------------------------------------------------------------------\u001b[0m",
      "\u001b[1;31mNameError\u001b[0m                                 Traceback (most recent call last)",
      "\u001b[1;32m~\\AppData\\Local\\Temp/ipykernel_13692/778389129.py\u001b[0m in \u001b[0;36m<module>\u001b[1;34m\u001b[0m\n\u001b[0;32m      1\u001b[0m \u001b[1;31m# Table 1\u001b[0m\u001b[1;33m\u001b[0m\u001b[1;33m\u001b[0m\u001b[0m\n\u001b[1;32m----> 2\u001b[1;33m \u001b[0mdf_2\u001b[0m\u001b[1;33m=\u001b[0m\u001b[0mdf_1\u001b[0m\u001b[1;33m.\u001b[0m\u001b[0msort_values\u001b[0m\u001b[1;33m(\u001b[0m\u001b[0mby\u001b[0m\u001b[1;33m=\u001b[0m\u001b[1;34m'WinRate'\u001b[0m\u001b[1;33m,\u001b[0m\u001b[0mascending\u001b[0m\u001b[1;33m=\u001b[0m\u001b[1;32mFalse\u001b[0m\u001b[1;33m)\u001b[0m \u001b[1;31m# Top performing teams\u001b[0m\u001b[1;33m\u001b[0m\u001b[1;33m\u001b[0m\u001b[0m\n\u001b[0m\u001b[0;32m      3\u001b[0m \u001b[0mdf_2\u001b[0m\u001b[1;33m.\u001b[0m\u001b[0msort_values\u001b[0m\u001b[1;33m(\u001b[0m\u001b[0mby\u001b[0m\u001b[1;33m=\u001b[0m\u001b[1;34m'Age'\u001b[0m\u001b[1;33m,\u001b[0m\u001b[0mascending\u001b[0m\u001b[1;33m=\u001b[0m\u001b[1;32mTrue\u001b[0m\u001b[1;33m)\u001b[0m\u001b[1;33m.\u001b[0m\u001b[0mhead\u001b[0m\u001b[1;33m(\u001b[0m\u001b[1;36m10\u001b[0m\u001b[1;33m)\u001b[0m \u001b[1;31m# Top performing old teams\u001b[0m\u001b[1;33m\u001b[0m\u001b[1;33m\u001b[0m\u001b[0m\n",
      "\u001b[1;31mNameError\u001b[0m: name 'df_1' is not defined"
     ]
    }
   ],
   "source": [
    "# Table 1\n",
    "df_2=df_1.sort_values(by='WinRate',ascending=False) # Top performing teams\n",
    "df_2.sort_values(by='Age',ascending=True).head(10) # Top performing old teams"
   ]
  },
  {
   "cell_type": "code",
   "execution_count": null,
   "id": "0896e0aa",
   "metadata": {},
   "outputs": [],
   "source": [
    "# # Table 2\n",
    "df_2=df_1.sort_values(by='ChampRate',ascending=False) # Top performing teams\n",
    "df_2.sort_values(by='Age',ascending=True).head(10) # Top performing old teams"
   ]
  },
  {
   "cell_type": "code",
   "execution_count": null,
   "id": "ea63e24e",
   "metadata": {},
   "outputs": [],
   "source": [
    "df_new.shape"
   ]
  },
  {
   "cell_type": "markdown",
   "id": "a5645069",
   "metadata": {},
   "source": [
    "####> QUESTION 3:"
   ]
  },
  {
   "cell_type": "markdown",
   "id": "f441c8db",
   "metadata": {},
   "source": [
    "Above data analysis was focused aroung Team name, Age, Winning Rate. A combination of 3 columns.\n",
    "\n",
    "Likewise there are 16 columns. There could be hundreds of combinations possible.\n",
    "\n",
    "Use your best analytical skills to perform data analysis to adhere to \" performance of the team \"\n",
    "\n",
    "There are many libraries which enable you to create interractive graphs."
   ]
  },
  {
   "cell_type": "markdown",
   "id": "23449c19",
   "metadata": {},
   "source": [
    "#PartC Answers"
   ]
  },
  {
   "cell_type": "code",
   "execution_count": 9,
   "id": "291902af",
   "metadata": {},
   "outputs": [
    {
     "name": "stdout",
     "output_type": "stream",
     "text": [
      "             Startup             Product Funding             Event  \\\n",
      "0             2600Hz          2600hz.com     NaN   Disrupt SF 2013   \n",
      "1               3DLT            3dlt.com   $630K  Disrupt NYC 2013   \n",
      "2        3DPrinterOS     3dprinteros.com     NaN   Disrupt SF 2016   \n",
      "3         3Dprintler      3dprintler.com     $1M   Disrupt NY 2016   \n",
      "4    42 Technologies  42technologies.com     NaN  Disrupt NYC 2013   \n",
      "..               ...                 ...     ...               ...   \n",
      "657           Zivity          zivity.com     $8M         TC40 2007   \n",
      "658           Zmorph        zmorph3d.com     $1M                 -   \n",
      "659           Zocdoc          zocdoc.com   $223M         TC40 2007   \n",
      "660             Zula         zulaapp.com   $3.4M   Disrupt SF 2013   \n",
      "661           Zumper          zumper.com  $31.5M   Disrupt SF 2012   \n",
      "\n",
      "              Result OperatingState  \n",
      "0         Contestant      Operating  \n",
      "1         Contestant         Closed  \n",
      "2         Contestant      Operating  \n",
      "3    Audience choice      Operating  \n",
      "4         Contestant      Operating  \n",
      "..               ...            ...  \n",
      "657       Contestant      Operating  \n",
      "658  Audience choice      Operating  \n",
      "659       Contestant      Operating  \n",
      "660  Audience choice      Operating  \n",
      "661         Finalist      Operating  \n",
      "\n",
      "[662 rows x 6 columns]\n"
     ]
    }
   ],
   "source": [
    "# Reading Raw data set\n",
    "file=\"DS+-+Part3+-+CompanyX_EU.csv\"\n",
    "df=pd.read_csv(file)\n",
    "print(df)"
   ]
  },
  {
   "cell_type": "code",
   "execution_count": 10,
   "id": "34df4543",
   "metadata": {},
   "outputs": [
    {
     "name": "stdout",
     "output_type": "stream",
     "text": [
      "Startup           object\n",
      "Product           object\n",
      "Funding           object\n",
      "Event             object\n",
      "Result            object\n",
      "OperatingState    object\n",
      "dtype: object\n"
     ]
    }
   ],
   "source": [
    "\n",
    "#Check the datatypes of each attribute.\n",
    "datatypes = df.dtypes\n",
    "print(datatypes)"
   ]
  },
  {
   "cell_type": "code",
   "execution_count": 11,
   "id": "21df0e67",
   "metadata": {
    "scrolled": true
   },
   "outputs": [
    {
     "data": {
      "text/html": [
       "<div>\n",
       "<style scoped>\n",
       "    .dataframe tbody tr th:only-of-type {\n",
       "        vertical-align: middle;\n",
       "    }\n",
       "\n",
       "    .dataframe tbody tr th {\n",
       "        vertical-align: top;\n",
       "    }\n",
       "\n",
       "    .dataframe thead th {\n",
       "        text-align: right;\n",
       "    }\n",
       "</style>\n",
       "<table border=\"1\" class=\"dataframe\">\n",
       "  <thead>\n",
       "    <tr style=\"text-align: right;\">\n",
       "      <th></th>\n",
       "      <th>Startup</th>\n",
       "      <th>Product</th>\n",
       "      <th>Funding</th>\n",
       "      <th>Event</th>\n",
       "      <th>Result</th>\n",
       "      <th>OperatingState</th>\n",
       "    </tr>\n",
       "  </thead>\n",
       "  <tbody>\n",
       "    <tr>\n",
       "      <th>0</th>\n",
       "      <td>False</td>\n",
       "      <td>False</td>\n",
       "      <td>True</td>\n",
       "      <td>False</td>\n",
       "      <td>False</td>\n",
       "      <td>False</td>\n",
       "    </tr>\n",
       "    <tr>\n",
       "      <th>1</th>\n",
       "      <td>False</td>\n",
       "      <td>False</td>\n",
       "      <td>False</td>\n",
       "      <td>False</td>\n",
       "      <td>False</td>\n",
       "      <td>False</td>\n",
       "    </tr>\n",
       "    <tr>\n",
       "      <th>2</th>\n",
       "      <td>False</td>\n",
       "      <td>False</td>\n",
       "      <td>True</td>\n",
       "      <td>False</td>\n",
       "      <td>False</td>\n",
       "      <td>False</td>\n",
       "    </tr>\n",
       "    <tr>\n",
       "      <th>3</th>\n",
       "      <td>False</td>\n",
       "      <td>False</td>\n",
       "      <td>False</td>\n",
       "      <td>False</td>\n",
       "      <td>False</td>\n",
       "      <td>False</td>\n",
       "    </tr>\n",
       "    <tr>\n",
       "      <th>4</th>\n",
       "      <td>False</td>\n",
       "      <td>False</td>\n",
       "      <td>True</td>\n",
       "      <td>False</td>\n",
       "      <td>False</td>\n",
       "      <td>False</td>\n",
       "    </tr>\n",
       "    <tr>\n",
       "      <th>...</th>\n",
       "      <td>...</td>\n",
       "      <td>...</td>\n",
       "      <td>...</td>\n",
       "      <td>...</td>\n",
       "      <td>...</td>\n",
       "      <td>...</td>\n",
       "    </tr>\n",
       "    <tr>\n",
       "      <th>657</th>\n",
       "      <td>False</td>\n",
       "      <td>False</td>\n",
       "      <td>False</td>\n",
       "      <td>False</td>\n",
       "      <td>False</td>\n",
       "      <td>False</td>\n",
       "    </tr>\n",
       "    <tr>\n",
       "      <th>658</th>\n",
       "      <td>False</td>\n",
       "      <td>False</td>\n",
       "      <td>False</td>\n",
       "      <td>False</td>\n",
       "      <td>False</td>\n",
       "      <td>False</td>\n",
       "    </tr>\n",
       "    <tr>\n",
       "      <th>659</th>\n",
       "      <td>False</td>\n",
       "      <td>False</td>\n",
       "      <td>False</td>\n",
       "      <td>False</td>\n",
       "      <td>False</td>\n",
       "      <td>False</td>\n",
       "    </tr>\n",
       "    <tr>\n",
       "      <th>660</th>\n",
       "      <td>False</td>\n",
       "      <td>False</td>\n",
       "      <td>False</td>\n",
       "      <td>False</td>\n",
       "      <td>False</td>\n",
       "      <td>False</td>\n",
       "    </tr>\n",
       "    <tr>\n",
       "      <th>661</th>\n",
       "      <td>False</td>\n",
       "      <td>False</td>\n",
       "      <td>False</td>\n",
       "      <td>False</td>\n",
       "      <td>False</td>\n",
       "      <td>False</td>\n",
       "    </tr>\n",
       "  </tbody>\n",
       "</table>\n",
       "<p>662 rows × 6 columns</p>\n",
       "</div>"
      ],
      "text/plain": [
       "     Startup  Product  Funding  Event  Result  OperatingState\n",
       "0      False    False     True  False   False           False\n",
       "1      False    False    False  False   False           False\n",
       "2      False    False     True  False   False           False\n",
       "3      False    False    False  False   False           False\n",
       "4      False    False     True  False   False           False\n",
       "..       ...      ...      ...    ...     ...             ...\n",
       "657    False    False    False  False   False           False\n",
       "658    False    False    False  False   False           False\n",
       "659    False    False    False  False   False           False\n",
       "660    False    False    False  False   False           False\n",
       "661    False    False    False  False   False           False\n",
       "\n",
       "[662 rows x 6 columns]"
      ]
     },
     "execution_count": 11,
     "metadata": {},
     "output_type": "execute_result"
    }
   ],
   "source": [
    "#Check for null values in the attributes\n",
    "pd.isnull(df)"
   ]
  },
  {
   "cell_type": "markdown",
   "id": "557faa94",
   "metadata": {},
   "source": [
    "data preprocessing & visualisation"
   ]
  },
  {
   "cell_type": "code",
   "execution_count": 12,
   "id": "34f0db68",
   "metadata": {},
   "outputs": [],
   "source": [
    "# Drop the null values. \n",
    "df1 = df.dropna().copy(deep=True)   # drop the rows which have no data for funds raised"
   ]
  },
  {
   "cell_type": "code",
   "execution_count": 14,
   "id": "cd0df191",
   "metadata": {},
   "outputs": [
    {
     "data": {
      "text/plain": [
       "393    $38.5M\n",
       "413      $50K\n",
       "293     $1.8M\n",
       "455      $20K\n",
       "439     $150K\n",
       "Name: Funding, dtype: object"
      ]
     },
     "execution_count": 14,
     "metadata": {},
     "output_type": "execute_result"
    }
   ],
   "source": [
    "# Convert ‘Funds Raised’ features to a numerical value\n",
    "df1['Funding'].sample(5)"
   ]
  },
  {
   "cell_type": "code",
   "execution_count": 16,
   "id": "663c7b51",
   "metadata": {},
   "outputs": [],
   "source": [
    "# Run this cell - Don't change anything\n",
    "df1.loc[:,'Funds_in_million'] = df1['Funding'].apply(lambda x: float(x[1:-1])/1000 if x[-1] == 'K' else (float(x[1:-1])*1000 if x[-1] == 'B' else float(x[1:-1])))"
   ]
  },
  {
   "cell_type": "code",
   "execution_count": null,
   "id": "1409a1a5",
   "metadata": {},
   "outputs": [],
   "source": []
  },
  {
   "cell_type": "code",
   "execution_count": 21,
   "id": "6630f404",
   "metadata": {},
   "outputs": [
    {
     "name": "stdout",
     "output_type": "stream",
     "text": [
      "8.72975\n",
      "22.569625\n",
      "6        29.0\n",
      "31       24.0\n",
      "40       50.9\n",
      "49       40.0\n",
      "56      205.0\n",
      "108      32.5\n",
      "113     182.1\n",
      "128      35.4\n",
      "130      38.0\n",
      "132      37.1\n",
      "138      72.0\n",
      "139      64.0\n",
      "154    1700.0\n",
      "166      34.6\n",
      "172      35.5\n",
      "179      30.1\n",
      "180      26.0\n",
      "188      66.0\n",
      "191      28.3\n",
      "209     103.0\n",
      "213      25.9\n",
      "215      36.5\n",
      "225      44.7\n",
      "231      24.2\n",
      "271     122.4\n",
      "276      34.9\n",
      "279      67.8\n",
      "282     166.1\n",
      "302      42.1\n",
      "305      69.0\n",
      "313      65.1\n",
      "325      25.1\n",
      "346      31.8\n",
      "389      37.0\n",
      "393      38.5\n",
      "394      25.5\n",
      "398      24.0\n",
      "427     278.0\n",
      "432      24.0\n",
      "435      63.0\n",
      "460      25.0\n",
      "471     160.0\n",
      "546      40.0\n",
      "555      47.4\n",
      "560      24.5\n",
      "581      25.0\n",
      "593     332.4\n",
      "598      35.0\n",
      "606     168.8\n",
      "615      28.0\n",
      "625      30.8\n",
      "643      41.8\n",
      "644     142.0\n",
      "647     117.8\n",
      "649      26.0\n",
      "650      28.0\n",
      "654      62.1\n",
      "656     583.6\n",
      "659     223.0\n",
      "661      31.5\n",
      "Name: Funds_in_million, dtype: float64\n",
      " number of outliers greater than the upper fence 60\n",
      "3        1.00\n",
      "6       29.00\n",
      "10       1.80\n",
      "13       1.00\n",
      "14       0.75\n",
      "        ...  \n",
      "657      8.00\n",
      "658      1.00\n",
      "659    223.00\n",
      "660      3.40\n",
      "661     31.50\n",
      "Name: Funds_in_million, Length: 319, dtype: float64\n",
      "1       0.6300\n",
      "11      1.0000\n",
      "17      0.9292\n",
      "20      1.9000\n",
      "34      0.6000\n",
      "48      0.1900\n",
      "62     20.8000\n",
      "79      8.1000\n",
      "82      0.3250\n",
      "97      5.5000\n",
      "107     0.3500\n",
      "110     0.7500\n",
      "112     0.4750\n",
      "115     6.7000\n",
      "120    12.0000\n",
      "126     0.9250\n",
      "148     4.0000\n",
      "150     0.1600\n",
      "152     0.3000\n",
      "170     2.4000\n",
      "172    35.5000\n",
      "178     0.1000\n",
      "183     2.3000\n",
      "205     0.7000\n",
      "210     1.2000\n",
      "216     1.0000\n",
      "222     0.1915\n",
      "227     0.3000\n",
      "248     0.1500\n",
      "256     0.5000\n",
      "284    10.0000\n",
      "295     3.0000\n",
      "317     0.8750\n",
      "336     7.3000\n",
      "348     3.0000\n",
      "355     1.2000\n",
      "388     1.0000\n",
      "396     0.8920\n",
      "418     3.5000\n",
      "439     0.1500\n",
      "443     3.5000\n",
      "489     4.1000\n",
      "490     1.1000\n",
      "503     0.7000\n",
      "524     0.2000\n",
      "538     1.5000\n",
      "542     0.6000\n",
      "548     1.8000\n",
      "564     0.3000\n",
      "566     0.6500\n",
      "571     4.2000\n",
      "577     0.2800\n",
      "583     0.0930\n",
      "595    14.5000\n",
      "599     0.5000\n",
      "612     0.8000\n",
      "645    10.0000\n",
      "Name: Funds_in_million, dtype: float64\n",
      "6080.837200000006\n",
      "185.7157\n",
      " difference between Funds raised by companies that are still operating vs companies that closed down are millions of 5895.1215\n",
      "\t Since the p-value, 0.255 > 0.05 (alpha) the difference is not significant and,\n",
      "    \t we fail to reject the Null hypothesis\n",
      "\t Since the p-value, 0.256 > 0.05 (alpha) the difference is not significant and,\n",
      "    \t we fail to reject the Null hypothesis\n",
      "             Startup             Product Funding             Event  \\\n",
      "0             2600Hz          2600hz.com     NaN   Disrupt SF 2013   \n",
      "1               3DLT            3dlt.com   $630K  Disrupt NYC 2013   \n",
      "2        3DPrinterOS     3dprinteros.com     NaN   Disrupt SF 2016   \n",
      "3         3Dprintler      3dprintler.com     $1M   Disrupt NY 2016   \n",
      "4    42 Technologies  42technologies.com     NaN  Disrupt NYC 2013   \n",
      "..               ...                 ...     ...               ...   \n",
      "657           Zivity          zivity.com     $8M         TC40 2007   \n",
      "658           Zmorph        zmorph3d.com     $1M                 -   \n",
      "659           Zocdoc          zocdoc.com   $223M         TC40 2007   \n",
      "660             Zula         zulaapp.com   $3.4M   Disrupt SF 2013   \n",
      "661           Zumper          zumper.com  $31.5M   Disrupt SF 2012   \n",
      "\n",
      "              Result OperatingState  \n",
      "0         Contestant      Operating  \n",
      "1         Contestant         Closed  \n",
      "2         Contestant      Operating  \n",
      "3    Audience choice      Operating  \n",
      "4         Contestant      Operating  \n",
      "..               ...            ...  \n",
      "657       Contestant      Operating  \n",
      "658  Audience choice      Operating  \n",
      "659       Contestant      Operating  \n",
      "660  Audience choice      Operating  \n",
      "661         Finalist      Operating  \n",
      "\n",
      "[662 rows x 6 columns]\n",
      " percentage of winners that are still operating  5.6426\n",
      " percentage of contestants that are still operating  67.0846\n"
     ]
    },
    {
     "data": {
      "image/png": "[encoded data removed]",
      "text/plain": [
       "<Figure size 432x288 with 1 Axes>"
      ]
     },
     "metadata": {},
     "output_type": "display_data"
    }
   ],
   "source": [
    "\n",
    "\n",
    "\n",
    "\n",
    "\n",
    "\n",
    "\n",
    "#plot box plots for funds in million\n",
    "boxplot = df1.boxplot(column=['Funds_in_million']);\n",
    "\n",
    "#Check the number of outliers greater than the upper fence.\n",
    "q3, q1 = np.percentile(df1['Funds_in_million'], [75 ,25])\n",
    "iqr = q3 - q1\n",
    "print(iqr);\n",
    "Upper_Fence=q3+1.5*iqr\n",
    "print(Upper_Fence);\n",
    "df2=df1['Funds_in_million'][df1['Funds_in_million']>Upper_Fence]\n",
    "print(df2)\n",
    "count=df2.count()\n",
    "print(' number of outliers greater than the upper fence %d'% count)\n",
    "\n",
    "#Check frequency of the OperatingState features classes\n",
    "df1.OperatingState.value_counts()\n",
    "#Is there any significant difference between Funds raised by companies that are still operating vs companies that closed down?\n",
    "df3=df1['Funds_in_million'][df1['OperatingState']=='Operating']\n",
    "print(df3)\n",
    "df4=df1['Funds_in_million'][df1['OperatingState']=='Closed']\n",
    "print(df4)\n",
    "Operating_sum=sum(df3)\n",
    "print(Operating_sum)\n",
    "Closed_sum=sum(df4)\n",
    "print(Closed_sum)\n",
    "Difference=Operating_sum-Closed_sum\n",
    "print(' difference between Funds raised by companies that are still operating vs companies that closed down are millions of %1.4f'% Difference)\n",
    "\n",
    "#Write the null hypothesis and alternative hypothesis\n",
    "\n",
    "from statsmodels.stats.weightstats import ztest\n",
    "\n",
    "sample1 = df1.loc[df1.OperatingState == 'Operating', 'Funds_in_million']\n",
    "sample2 = df1.loc[df1.OperatingState =='Closed', 'Funds_in_million']\n",
    "\n",
    "alpha = 0.05   # Let's consider a significance level of 5%\n",
    "\n",
    "test_statistic, p_value = ztest(sample1, sample2)\n",
    "\n",
    "if p_value <= alpha:\n",
    "    print(f'Since the p-value, {round(p_value, 3)} < {alpha} (alpha) the difference is significant and we reject the Null hypothesis')\n",
    "else:\n",
    "    print(f'''\\t Since the p-value, {round(p_value,3)} > {alpha} (alpha) the difference is not significant and,\n",
    "    \\t we fail to reject the Null hypothesis''')\n",
    "#Test for significance and conclusion\n",
    "from scipy.stats import ttest_ind\n",
    "\n",
    "test_statistic, p_value = ttest_ind(sample1, sample2)\n",
    "\n",
    "if p_value <= alpha:\n",
    "    print(f'Since the p-value, {round(p_value, 3)} < {alpha} (alpha) the difference is significant and we reject the Null hypothesis')\n",
    "else:\n",
    "    print(f'''\\t Since the p-value, {round(p_value,3)} > {alpha} (alpha) the difference is not significant and,\n",
    "    \\t we fail to reject the Null hypothesis''')\n",
    "# Make a copy of the original data frame.\n",
    "df_Copy = df.copy()\n",
    "print(df_Copy)\n",
    "\n",
    "#Check frequency distribution of Result variables.\n",
    "# Make a copy of the original data\n",
    "df2 = df.copy(deep = True)\n",
    "df2.head()\n",
    "# Frequency distribution of Result Variable\n",
    "\n",
    "df2.Result.value_counts()\n",
    "#Calculate percentage of winners that are still operating and percentage of contestants that are still operating \n",
    "# Calculate percentage of winners\n",
    "winners = df2.Result.value_counts()[1:].sum()\n",
    "contestants = df2.Result.value_counts()['Contestant']\n",
    "\n",
    "contestants_operating = df2.OperatingState[df2.Result == 'Contestant'].value_counts().loc['Operating']\n",
    "winners_operating = df2.OperatingState[df2.Result != 'Contestant'].value_counts().loc['Operating']\n",
    "\n",
    "winners_operating/winners, contestants_operating/contestants\n",
    "\n",
    "\n",
    "\n",
    "#Test for significance and conclusion \n",
    "#Select only the Event that has ‘disrupt’ keyword from 2013 onwards.\n"
   ]
  },
  {
   "cell_type": "markdown",
   "id": "47935bf7",
   "metadata": {},
   "source": [
    "Null hyputhesis (Ho): The proportion of companies that are operating is the same in both categories - winners and contestants\n",
    "\n",
    "Alternative hypothesis (Ha): The proportion of companies that are operating is significantly different from each other, among the two categories"
   ]
  },
  {
   "cell_type": "code",
   "execution_count": 22,
   "id": "7d95140c",
   "metadata": {},
   "outputs": [
    {
     "name": "stdout",
     "output_type": "stream",
     "text": [
      "Since the p-value, 0.037 < 0.05 (alpha) the difference is significant and we reject the Null hypothesis\n"
     ]
    }
   ],
   "source": [
    "from statsmodels.stats.proportion import proportions_ztest\n",
    "\n",
    "test_statistic, p_value = proportions_ztest([contestants_operating, winners_operating], [contestants, winners])\n",
    "\n",
    "if p_value <= alpha:\n",
    "    print(f'Since the p-value, {round(p_value, 3)} < {alpha} (alpha) the difference is significant and we reject the Null hypothesis')\n",
    "else:\n",
    "    print(f'''\\t Since the p-value, {round(p_value,3)} > {alpha} (alpha) the difference is not significant and,\n",
    "    \\t we fail to reject the Null hypothesis''')"
   ]
  },
  {
   "cell_type": "markdown",
   "id": "844b358a",
   "metadata": {},
   "source": [
    "Conclusion\n",
    "\n",
    "The amount of funds a company raises is not a significant factor in deciding if the company will remain operational or close down\n",
    "Winners in the battle have proven to remain operational more so, than the companies that came out only as contestants"
   ]
  },
  {
   "cell_type": "code",
   "execution_count": 23,
   "id": "e0422d06",
   "metadata": {},
   "outputs": [
    {
     "data": {
      "text/plain": [
       "Disrupt SF 2011         24\n",
       "Disrupt NYC 2013        22\n",
       "Disrupt SF 2013         22\n",
       "Disrupt NY 2015         21\n",
       "Disrupt NYC 2012        21\n",
       "Disrupt SF 2012         20\n",
       "Disrupt NYC 2011        19\n",
       "Disrupt SF 2010         19\n",
       "Disrupt SF 2014         19\n",
       "Disrupt SF 2015         19\n",
       "Disrupt SF 2016         17\n",
       "Disrupt NYC 2014        16\n",
       "Disrupt NY 2016         16\n",
       "Disrupt NYC 2010        15\n",
       "Disrupt London 2015     12\n",
       "Disrupt London 2016     10\n",
       "Disrupt EU 2014         10\n",
       "Disrupt EU 2013          9\n",
       "Disrupt Beijing 2011     7\n",
       "Name: Event, dtype: int64"
      ]
     },
     "execution_count": 23,
     "metadata": {},
     "output_type": "execute_result"
    }
   ],
   "source": [
    "# Events with disrupt keyword\n",
    "df1[df1.Event.apply(lambda x: 'Disrupt' in x)].Event.value_counts()"
   ]
  },
  {
   "cell_type": "code",
   "execution_count": null,
   "id": "8ecb336c",
   "metadata": {},
   "outputs": [],
   "source": []
  }
 ],
 "metadata": {
  "kernelspec": {
   "display_name": "Python 3 (ipykernel)",
   "language": "python",
   "name": "python3"
  },
  "language_info": {
   "codemirror_mode": {
    "name": "ipython",
    "version": 3
   },
   "file_extension": ".py",
   "mimetype": "text/x-python",
   "name": "python",
   "nbconvert_exporter": "python",
   "pygments_lexer": "ipython3",
   "version": "3.9.7"
  }
 },
 "nbformat": 4,
 "nbformat_minor": 5
}
